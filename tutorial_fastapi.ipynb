{
 "cells": [
  {
   "cell_type": "markdown",
   "metadata": {},
   "source": [
    "# Asynchronous Code\n",
    "Asynchronous code just means that the language 💬 has a way to tell the computer / program 🤖 that at some point in the code, it 🤖 will have to wait for something else to finish somewhere else. Let's say that something else is called \"slow-file\" 📝.\n",
    "\n",
    "So, during that time, the computer can go and do some other work, while \"slow-file\" 📝 finishes."
   ]
  },
  {
   "cell_type": "markdown",
   "metadata": {},
   "source": [
    "### Story: Waiting for your Order\n",
    "\n",
    "While you are at the line, you are just idle 😴, waiting for your turn, not doing anything very \"productive\". But the line is fast because the cashier is only taking the orders (not preparing them), so that's fine.\n",
    "\n",
    "Then, when it's your turn, you do actual \"productive\" work, you process the menu, decide what you want, get your crush's choice, pay, check that you give the correct bill or card, check that you are charged correctly, check that the order has the correct items, etc.\n",
    "\n",
    "But then, even though you still don't have your burgers, your work with the cashier is \"on pause\" ⏸, because you have to wait 🕙 for your burgers to be ready.\n",
    "\n",
    "But as you go away from the counter and sit at the table with a number for your turn, you can switch 🔀 your attention to your crush, and \"work\" ⏯ 🤓 on that. Then you are again doing something very \"productive\" as is flirting with your crush 😍.\n",
    "\n",
    "Then the cashier 💁 says \"I'm finished with doing the burgers\" by putting your number on the counter's display, but you don't jump like crazy immediately when the displayed number changes to your turn number. You know no one will steal your burgers because you have the number of your turn, and they have theirs.\n",
    "\n",
    "So you wait for your crush to finish the story (finish the current work ⏯ / task being processed 🤓), smile gently and say that you are going for the burgers ⏸.\n",
    "\n",
    "Then you go to the counter 🔀, to the initial task that is now finished ⏯, pick the burgers, say thanks and take them to the table. That finishes that step / task of interaction with the counter ⏹. That in turn, creates a new task, of \"eating burgers\" 🔀 ⏯, but the previous one of \"getting burgers\" is finished ⏹."
   ]
  },
  {
   "cell_type": "markdown",
   "metadata": {},
   "source": [
    "### Concurrency + Parallelism: Web + Machine Learning¶\n",
    "With FastAPI you can take the advantage of concurrency that is very common for web development (the same main attraction of NodeJS).\n",
    "\n",
    "But you can also exploit the benefits of parallelism and multiprocessing (having multiple processes running in parallel) for CPU bound workloads like those in Machine Learning systems.\n",
    "\n",
    "That, plus the simple fact that Python is the main language for Data Science, Machine Learning and especially Deep Learning, make FastAPI a very good match for Data Science / Machine Learning web APIs and applications (among many others)."
   ]
  }
 ],
 "metadata": {
  "language_info": {
   "name": "python"
  }
 },
 "nbformat": 4,
 "nbformat_minor": 2
}
